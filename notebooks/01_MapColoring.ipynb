{
 "cells": [
  {
   "cell_type": "code",
   "execution_count": null,
   "id": "f319b2bd-159d-4201-8f60-b69b15ca9b1a",
   "metadata": {},
   "outputs": [],
   "source": [
    "import json\n",
    "from collections import defaultdict\n",
    "from IPython.display import display_png, Image\n",
    "\n",
    "import pandas as pd\n",
    "import plotly.graph_objects as go\n",
    "import plotly.express as px\n",
    "from random import Random"
   ]
  },
  {
   "cell_type": "code",
   "execution_count": null,
   "id": "e4a7513b-d7a2-4007-a0a8-b760fab0205a",
   "metadata": {},
   "outputs": [],
   "source": [
    "# Suppress warnings from Plotly.\n",
    "import warnings\n",
    "warnings.filterwarnings('ignore')"
   ]
  },
  {
   "cell_type": "code",
   "execution_count": null,
   "id": "12037382-3127-46c8-b9a6-0219f92227f4",
   "metadata": {},
   "outputs": [],
   "source": [
    "# Load and filter GeoJSON file.\n",
    "with open('../data/geojson-counties-fips.json') as f:\n",
    "    geo = json.load(f)\n",
    "\n",
    "STATE_UTAH = 49\n",
    "geo['features'] = [feature for feature in geo['features'] if feature['properties']['STATE'] == str(STATE_UTAH)]\n",
    "counties = [feature['id'] for feature in geo['features']]\n",
    "county_names = {feature['id']: feature['properties']['NAME'] for feature in geo['features']}"
   ]
  },
  {
   "cell_type": "code",
   "execution_count": null,
   "id": "98f0ec87-184c-4276-8358-bb02766982ef",
   "metadata": {},
   "outputs": [],
   "source": [
    "# Load adjacency data.\n",
    "nbrs = defaultdict(list)\n",
    "\n",
    "for index, row in pd.read_csv('../data/county_adjacency2024.txt', delimiter='|').iterrows():\n",
    "    u = row['County GEOID']\n",
    "    v = row['Neighbor GEOID']\n",
    "\n",
    "    if u // 1000 == STATE_UTAH and v // 1000 == STATE_UTAH and u != v:\n",
    "        nbrs[str(u)] += [str(v)]"
   ]
  },
  {
   "cell_type": "code",
   "execution_count": null,
   "id": "7e6de915-5780-4edb-b0b5-0168ac515623",
   "metadata": {},
   "outputs": [],
   "source": [
    "# Initialize pseudorandom number generator.\n",
    "rand = Random(12345)"
   ]
  },
  {
   "cell_type": "code",
   "execution_count": null,
   "id": "e6a953a1-7fe4-42b0-9e5e-30b8db69335b",
   "metadata": {},
   "outputs": [],
   "source": [
    "def show_map(colors, show_png=False):\n",
    "    df = pd.DataFrame(colors.items(), columns=['fips', 'color'], dtype=str)  # load as discrete values\n",
    "    df = df[df['color'] != '0'].sort_values(by=['color'])\n",
    "\n",
    "    fig = px.choropleth_mapbox(\n",
    "        df,\n",
    "        geojson=geo,\n",
    "        locations='fips',\n",
    "        color='color',\n",
    "        color_discrete_map={str(i + 1): px.colors.qualitative.Plotly[i] for i in range(10)},\n",
    "        mapbox_style='carto-positron',\n",
    "        zoom=5.5,\n",
    "        center = {\"lat\": 39.5, \"lon\": -111.55},\n",
    "        width=500,\n",
    "        height=500,\n",
    "        opacity=0.8\n",
    "    )\n",
    "    fig.update_layout(\n",
    "        margin=dict(r=0, t=0, l=0, b=0),\n",
    "        showlegend=True\n",
    "    )\n",
    "    \n",
    "    if show_png:\n",
    "        display_png(Image(fig.to_image('png')))\n",
    "    else:\n",
    "        fig.show()"
   ]
  },
  {
   "cell_type": "code",
   "execution_count": null,
   "id": "bfdbc83c-eb83-4b80-adf9-d0902a35992d",
   "metadata": {},
   "outputs": [],
   "source": [
    "show_map({county: 1 for county in counties}, show_png=False)"
   ]
  },
  {
   "cell_type": "markdown",
   "id": "70f980b6-d216-43ea-aecd-95e3c7344d51",
   "metadata": {},
   "source": [
    "## Random Coloring"
   ]
  },
  {
   "cell_type": "code",
   "execution_count": null,
   "id": "1f412eb2-eeb3-4cb8-942b-d4ffd9b9f516",
   "metadata": {},
   "outputs": [],
   "source": [
    "num_colors = 5\n",
    "colors = {county: rand.randint(1, num_colors) for county in counties}\n",
    "show_map(colors)"
   ]
  },
  {
   "cell_type": "markdown",
   "id": "7b3cae5c-ee76-491b-afb4-b7c8b75f8515",
   "metadata": {},
   "source": [
    "## Greedy Coloring"
   ]
  },
  {
   "cell_type": "code",
   "execution_count": null,
   "id": "dac8d42c-05d0-4a71-a366-079939325097",
   "metadata": {},
   "outputs": [],
   "source": [
    "def run_step(state, show=False):\n",
    "    running = True\n",
    "    index = state['index']\n",
    "    if index < len(state['counties']):\n",
    "        county = state['counties'][index]\n",
    "        used_colors = [state['colors'][nbr] for nbr in nbrs[county]]\n",
    "        c = 1\n",
    "        while c in used_colors:\n",
    "            c += 1\n",
    "\n",
    "        print(f'{index + 1:2d}: {county_names[county]:12s} -> color {c}')\n",
    "        state['colors'][county] = c\n",
    "\n",
    "        state['index'] += 1\n",
    "\n",
    "    if show:\n",
    "        show_map(state['colors'], show_png=False)\n",
    "    return state['index'] < len(state['counties'])"
   ]
  },
  {
   "cell_type": "code",
   "execution_count": null,
   "id": "9bafe899-30b4-4b93-b8e1-4fd878e44c5b",
   "metadata": {},
   "outputs": [],
   "source": [
    "state = dict(colors=defaultdict(int), index=0, counties=sorted(counties))"
   ]
  },
  {
   "cell_type": "code",
   "execution_count": null,
   "id": "e3f7f9a0-2b81-4948-8af3-7463ce4f0e42",
   "metadata": {},
   "outputs": [],
   "source": [
    "# Repeatedly run this cell.\n",
    "run_step(state, show=True)"
   ]
  },
  {
   "cell_type": "code",
   "execution_count": null,
   "id": "43b1a8b6-68f4-43ec-b643-9ac7a27db558",
   "metadata": {},
   "outputs": [],
   "source": [
    "state = dict(colors=defaultdict(int), index=0, counties=sorted(counties))\n",
    "while True:\n",
    "    if not run_step(state, show=False):\n",
    "        break\n",
    "show_map(state['colors'])"
   ]
  },
  {
   "cell_type": "code",
   "execution_count": null,
   "id": "4b973851-ee71-4c81-b2f0-ddc304307470",
   "metadata": {},
   "outputs": [],
   "source": []
  }
 ],
 "metadata": {
  "kernelspec": {
   "display_name": "Python 3 (ipykernel)",
   "language": "python",
   "name": "python3"
  },
  "language_info": {
   "codemirror_mode": {
    "name": "ipython",
    "version": 3
   },
   "file_extension": ".py",
   "mimetype": "text/x-python",
   "name": "python",
   "nbconvert_exporter": "python",
   "pygments_lexer": "ipython3",
   "version": "3.10.4"
  }
 },
 "nbformat": 4,
 "nbformat_minor": 5
}
